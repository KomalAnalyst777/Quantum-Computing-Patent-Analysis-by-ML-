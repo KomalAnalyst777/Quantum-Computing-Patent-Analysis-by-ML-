{
 "cells": [
  {
   "cell_type": "code",
   "execution_count": 9,
   "metadata": {},
   "outputs": [
    {
     "name": "stdout",
     "output_type": "stream",
     "text": [
      "Python 3.11.0\n"
     ]
    }
   ],
   "source": [
    "!python --version\n"
   ]
  },
  {
   "cell_type": "code",
   "execution_count": 10,
   "metadata": {
    "id": "Aod3D66kRZ2v"
   },
   "outputs": [
    {
     "name": "stdout",
     "output_type": "stream",
     "text": [
      "Collecting scikit-learn==1.3.2\n",
      "  Downloading scikit_learn-1.3.2-cp311-cp311-manylinux_2_17_x86_64.manylinux2014_x86_64.whl.metadata (11 kB)\n",
      "Collecting numpy<2.0,>=1.17.3 (from scikit-learn==1.3.2)\n",
      "  Downloading numpy-1.26.4-cp311-cp311-manylinux_2_17_x86_64.manylinux2014_x86_64.whl.metadata (61 kB)\n",
      "Collecting scipy>=1.5.0 (from scikit-learn==1.3.2)\n",
      "  Downloading scipy-1.16.2-cp311-cp311-manylinux2014_x86_64.manylinux_2_17_x86_64.whl.metadata (62 kB)\n",
      "Collecting joblib>=1.1.1 (from scikit-learn==1.3.2)\n",
      "  Downloading joblib-1.5.2-py3-none-any.whl.metadata (5.6 kB)\n",
      "Collecting threadpoolctl>=2.0.0 (from scikit-learn==1.3.2)\n",
      "  Downloading threadpoolctl-3.6.0-py3-none-any.whl.metadata (13 kB)\n",
      "Downloading scikit_learn-1.3.2-cp311-cp311-manylinux_2_17_x86_64.manylinux2014_x86_64.whl (10.9 MB)\n",
      "\u001b[2K   \u001b[90m━━━━━━━━━━━━━━━━━━━━━━━━━━━━━━━━━━━━━━━━\u001b[0m \u001b[32m10.9/10.9 MB\u001b[0m \u001b[31m60.5 MB/s\u001b[0m  \u001b[33m0:00:00\u001b[0m\n",
      "\u001b[?25hDownloading numpy-1.26.4-cp311-cp311-manylinux_2_17_x86_64.manylinux2014_x86_64.whl (18.3 MB)\n",
      "\u001b[2K   \u001b[90m━━━━━━━━━━━━━━━━━━━━━━━━━━━━━━━━━━━━━━━━\u001b[0m \u001b[32m18.3/18.3 MB\u001b[0m \u001b[31m95.6 MB/s\u001b[0m  \u001b[33m0:00:00\u001b[0m\n",
      "\u001b[?25hDownloading joblib-1.5.2-py3-none-any.whl (308 kB)\n",
      "Downloading scipy-1.16.2-cp311-cp311-manylinux2014_x86_64.manylinux_2_17_x86_64.whl (35.9 MB)\n",
      "\u001b[2K   \u001b[90m━━━━━━━━━━━━━━━━━━━━━━━━━━━━━━━━━━━━━━━━\u001b[0m \u001b[32m35.9/35.9 MB\u001b[0m \u001b[31m72.5 MB/s\u001b[0m  \u001b[33m0:00:00\u001b[0m eta \u001b[36m0:00:01\u001b[0m\n",
      "\u001b[?25hDownloading threadpoolctl-3.6.0-py3-none-any.whl (18 kB)\n",
      "Installing collected packages: threadpoolctl, numpy, joblib, scipy, scikit-learn\n",
      "\u001b[2K  Attempting uninstall: threadpoolctl\n",
      "\u001b[2K    Found existing installation: threadpoolctl 3.6.0\n",
      "\u001b[2K    Uninstalling threadpoolctl-3.6.0:\n",
      "\u001b[2K      Successfully uninstalled threadpoolctl-3.6.00m \u001b[32m0/5\u001b[0m [threadpoolctl]\n",
      "\u001b[2K  Attempting uninstall: numpy━━━━━━━━━━━━━━━\u001b[0m \u001b[32m0/5\u001b[0m [threadpoolctl]\n",
      "\u001b[2K    Found existing installation: numpy 2.3.2\u001b[0m \u001b[32m0/5\u001b[0m [threadpoolctl]\n",
      "\u001b[2K    Uninstalling numpy-2.3.2:m\u001b[90m━━━━━━━━━━━━━━━━━━━━━━━━━━━━━━━\u001b[0m \u001b[32m1/5\u001b[0m [numpy]\n",
      "\u001b[2K      Successfully uninstalled numpy-2.3.2━━━━━━━━━━━━━━━━━━━━\u001b[0m \u001b[32m1/5\u001b[0m [numpy]\n",
      "\u001b[2K  Attempting uninstall: joblib\u001b[90m━━━━━━━━━━━━━━━━━━━━━━━━━━━━━━━\u001b[0m \u001b[32m1/5\u001b[0m [numpy]\n",
      "\u001b[2K    Found existing installation: joblib 1.5.2━━━━━━━━━━━━━━━━━\u001b[0m \u001b[32m1/5\u001b[0m [numpy]\n",
      "\u001b[2K    Uninstalling joblib-1.5.2:m━━━━━━━━━━━━━━━━━━━━━━━━━━━━━━━\u001b[0m \u001b[32m1/5\u001b[0m [numpy]\n",
      "\u001b[2K      Successfully uninstalled joblib-1.5.2━━━━━━━━━━━━━━━━━━━\u001b[0m \u001b[32m1/5\u001b[0m [numpy]\n",
      "\u001b[2K  Attempting uninstall: scipy[90m╺\u001b[0m\u001b[90m━━━━━━━━━━━━━━━━━━━━━━━\u001b[0m \u001b[32m2/5\u001b[0m [joblib]\n",
      "\u001b[2K    Found existing installation: scipy 1.16.1━━━━━━━━━━━━━━━━━\u001b[0m \u001b[32m2/5\u001b[0m [joblib]\n",
      "\u001b[2K    Uninstalling scipy-1.16.1:━━\u001b[0m\u001b[90m╺\u001b[0m\u001b[90m━━━━━━━━━━━━━━━\u001b[0m \u001b[32m3/5\u001b[0m [scipy]\n",
      "\u001b[2K      Successfully uninstalled scipy-1.16.1[0m\u001b[90m━━━━━━━━━━━━━━━\u001b[0m \u001b[32m3/5\u001b[0m [scipy]\n",
      "\u001b[2K  Attempting uninstall: scikit-learn\u001b[90m╺\u001b[0m\u001b[90m━━━━━━━━━━━━━━━\u001b[0m \u001b[32m3/5\u001b[0m [scipy]\n",
      "\u001b[2K    Found existing installation: scikit-learn 1.7.1━━━━━━━━━━━\u001b[0m \u001b[32m3/5\u001b[0m [scipy]\n",
      "\u001b[2K    Uninstalling scikit-learn-1.7.1:━━━━\u001b[0m\u001b[90m╺\u001b[0m\u001b[90m━━━━━━━\u001b[0m \u001b[32m4/5\u001b[0m [scikit-learn]\n",
      "\u001b[2K      Successfully uninstalled scikit-learn-1.7.1m\u001b[90m━━━━━━━\u001b[0m \u001b[32m4/5\u001b[0m [scikit-learn]\n",
      "\u001b[2K   \u001b[90m━━━━━━━━━━━━━━━━━━━━━━━━━━━━━━━━━━━━━━━━\u001b[0m \u001b[32m5/5\u001b[0m [scikit-learn][0m [scikit-learn]\n",
      "\u001b[1A\u001b[2KSuccessfully installed joblib-1.5.2 numpy-1.26.4 scikit-learn-1.3.2 scipy-1.16.2 threadpoolctl-3.6.0\n",
      "Collecting xgboost==1.7.6\n",
      "  Downloading xgboost-1.7.6-py3-none-manylinux2014_x86_64.whl.metadata (1.9 kB)\n",
      "Collecting numpy (from xgboost==1.7.6)\n",
      "  Downloading numpy-2.3.3-cp311-cp311-manylinux_2_27_x86_64.manylinux_2_28_x86_64.whl.metadata (62 kB)\n",
      "Collecting scipy (from xgboost==1.7.6)\n",
      "  Downloading scipy-1.16.2-cp311-cp311-manylinux2014_x86_64.manylinux_2_17_x86_64.whl.metadata (62 kB)\n",
      "Downloading xgboost-1.7.6-py3-none-manylinux2014_x86_64.whl (200.3 MB)\n",
      "\u001b[2K   \u001b[90m━━━━━━━━━━━━━━━━━━━━━━━━━━━━━━━━━━━━━━━━\u001b[0m \u001b[32m200.3/200.3 MB\u001b[0m \u001b[31m72.6 MB/s\u001b[0m  \u001b[33m0:00:02\u001b[0m eta \u001b[36m0:00:01\u001b[0m\n",
      "\u001b[?25hDownloading numpy-2.3.3-cp311-cp311-manylinux_2_27_x86_64.manylinux_2_28_x86_64.whl (16.9 MB)\n",
      "\u001b[2K   \u001b[90m━━━━━━━━━━━━━━━━━━━━━━━━━━━━━━━━━━━━━━━━\u001b[0m \u001b[32m16.9/16.9 MB\u001b[0m \u001b[31m76.6 MB/s\u001b[0m  \u001b[33m0:00:00\u001b[0m eta \u001b[36m0:00:01\u001b[0m\n",
      "\u001b[?25hDownloading scipy-1.16.2-cp311-cp311-manylinux2014_x86_64.manylinux_2_17_x86_64.whl (35.9 MB)\n",
      "\u001b[2K   \u001b[90m━━━━━━━━━━━━━━━━━━━━━━━━━━━━━━━━━━━━━━━━\u001b[0m \u001b[32m35.9/35.9 MB\u001b[0m \u001b[31m72.4 MB/s\u001b[0m  \u001b[33m0:00:00\u001b[0m eta \u001b[36m0:00:01\u001b[0m\n",
      "\u001b[?25hInstalling collected packages: numpy, scipy, xgboost\n",
      "\u001b[2K  Attempting uninstall: numpy\n",
      "\u001b[2K    Found existing installation: numpy 1.26.4\n",
      "\u001b[2K    Uninstalling numpy-1.26.4:━━━━━━━━━━━━━━━━━━\u001b[0m \u001b[32m0/3\u001b[0m [numpy]\n",
      "\u001b[2K      Successfully uninstalled numpy-1.26.4━\u001b[0m \u001b[32m0/3\u001b[0m [numpy]\n",
      "\u001b[2K  Attempting uninstall: scipy━━━━━━━━━━━━━━━━━━━\u001b[0m \u001b[32m0/3\u001b[0m [numpy]\n",
      "\u001b[2K    Found existing installation: scipy 1.16.2[0m \u001b[32m0/3\u001b[0m [numpy]\n",
      "\u001b[2K    Uninstalling scipy-1.16.2:╺\u001b[0m\u001b[90m━━━━━━━━━━━━━━━━━━━━━━━━━━\u001b[0m \u001b[32m1/3\u001b[0m [scipy]\n",
      "\u001b[2K      Successfully uninstalled scipy-1.16.2━━━━━━━━━━━━━━━━━━━\u001b[0m \u001b[32m1/3\u001b[0m [scipy]\n",
      "\u001b[2K   \u001b[90m━━━━━━━━━━━━━━━━━━━━━━━━━━━━━━━━━━━━━━━━\u001b[0m \u001b[32m3/3\u001b[0m [xgboost]m2/3\u001b[0m [xgboost]\n",
      "\u001b[1A\u001b[2K\u001b[31mERROR: pip's dependency resolver does not currently take into account all the packages that are installed. This behaviour is the source of the following dependency conflicts.\n",
      "scikit-learn 1.3.2 requires numpy<2.0,>=1.17.3, but you have numpy 2.3.3 which is incompatible.\u001b[0m\u001b[31m\n",
      "\u001b[0mSuccessfully installed numpy-2.3.3 scipy-1.16.2 xgboost-1.7.6\n"
     ]
    }
   ],
   "source": [
    "!pip install scikit-learn==1.3.2 --force-reinstall --no-cache-dir --proxy 14.139.134.20:3128\n",
    "!pip install xgboost==1.7.6 --force-reinstall --no-cache-dir --proxy 14.139.134.20:3128\n",
    "# !pip install lightgbm==4.0.0 --force-reinstall --no-cache-dir --proxy 14.139.134.20:3128\n",
    "# !pip install catboost==1.2.2 --force-reinstall --no-cache-dir --proxy 14.139.134.20:3128"
   ]
  },
  {
   "cell_type": "code",
   "execution_count": 11,
   "metadata": {},
   "outputs": [
    {
     "name": "stdout",
     "output_type": "stream",
     "text": [
      "Collecting numpy==1.26.4\n",
      "  Downloading numpy-1.26.4-cp311-cp311-manylinux_2_17_x86_64.manylinux2014_x86_64.whl.metadata (61 kB)\n",
      "Collecting scipy==1.13.1\n",
      "  Downloading scipy-1.13.1-cp311-cp311-manylinux_2_17_x86_64.manylinux2014_x86_64.whl.metadata (60 kB)\n",
      "Downloading numpy-1.26.4-cp311-cp311-manylinux_2_17_x86_64.manylinux2014_x86_64.whl (18.3 MB)\n",
      "\u001b[2K   \u001b[90m━━━━━━━━━━━━━━━━━━━━━━━━━━━━━━━━━━━━━━━━\u001b[0m \u001b[32m18.3/18.3 MB\u001b[0m \u001b[31m71.9 MB/s\u001b[0m  \u001b[33m0:00:00\u001b[0m eta \u001b[36m0:00:01\u001b[0m\n",
      "\u001b[?25hDownloading scipy-1.13.1-cp311-cp311-manylinux_2_17_x86_64.manylinux2014_x86_64.whl (38.6 MB)\n",
      "\u001b[2K   \u001b[90m━━━━━━━━━━━━━━━━━━━━━━━━━━━━━━━━━━━━━━━━\u001b[0m \u001b[32m38.6/38.6 MB\u001b[0m \u001b[31m93.5 MB/s\u001b[0m  \u001b[33m0:00:00\u001b[0m eta \u001b[36m0:00:01\u001b[0m\n",
      "\u001b[?25hInstalling collected packages: numpy, scipy\n",
      "\u001b[2K  Attempting uninstall: numpy\n",
      "\u001b[2K    Found existing installation: numpy 2.3.3\n",
      "\u001b[2K    Uninstalling numpy-2.3.3:━━━━━━━━━━━━━━━━━━━\u001b[0m \u001b[32m0/2\u001b[0m [numpy]\n",
      "\u001b[2K      Successfully uninstalled numpy-2.3.3━━\u001b[0m \u001b[32m0/2\u001b[0m [numpy]\n",
      "\u001b[2K  Attempting uninstall: scipy━━━━━━━━━━━━━━━━━━━\u001b[0m \u001b[32m0/2\u001b[0m [numpy]\n",
      "\u001b[2K    Found existing installation: scipy 1.16.2[0m \u001b[32m0/2\u001b[0m [numpy]\n",
      "\u001b[2K    Uninstalling scipy-1.16.2:0m\u001b[90m╺\u001b[0m\u001b[90m━━━━━━━━━━━━━━━━━━━\u001b[0m \u001b[32m1/2\u001b[0m [scipy]\n",
      "\u001b[2K      Successfully uninstalled scipy-1.16.2━━━━━━━━━━━━━━━━━━━\u001b[0m \u001b[32m1/2\u001b[0m [scipy]\n",
      "\u001b[2K   \u001b[90m━━━━━━━━━━━━━━━━━━━━━━━━━━━━━━━━━━━━━━━━\u001b[0m \u001b[32m2/2\u001b[0m [scipy]32m1/2\u001b[0m [scipy]\n",
      "\u001b[1A\u001b[2KSuccessfully installed numpy-1.26.4 scipy-1.13.1\n"
     ]
    }
   ],
   "source": [
    "!pip install --upgrade --force-reinstall --no-cache-dir numpy==1.26.4 scipy==1.13.1 --proxy 14.139.134.20:3128\n"
   ]
  },
  {
   "cell_type": "code",
   "execution_count": 21,
   "metadata": {},
   "outputs": [
    {
     "name": "stdout",
     "output_type": "stream",
     "text": [
      "Collecting matplotlib\n",
      "  Downloading matplotlib-3.10.6-cp311-cp311-manylinux2014_x86_64.manylinux_2_17_x86_64.whl.metadata (11 kB)\n",
      "Collecting contourpy>=1.0.1 (from matplotlib)\n",
      "  Using cached contourpy-1.3.3-cp311-cp311-manylinux_2_27_x86_64.manylinux_2_28_x86_64.whl.metadata (5.5 kB)\n",
      "Collecting cycler>=0.10 (from matplotlib)\n",
      "  Using cached cycler-0.12.1-py3-none-any.whl.metadata (3.8 kB)\n",
      "Collecting fonttools>=4.22.0 (from matplotlib)\n",
      "  Downloading fonttools-4.60.1-cp311-cp311-manylinux2014_x86_64.manylinux_2_17_x86_64.whl.metadata (112 kB)\n",
      "Collecting kiwisolver>=1.3.1 (from matplotlib)\n",
      "  Downloading kiwisolver-1.4.9-cp311-cp311-manylinux2014_x86_64.manylinux_2_17_x86_64.whl.metadata (6.3 kB)\n",
      "Requirement already satisfied: numpy>=1.23 in ./my_venv/lib/python3.11/site-packages (from matplotlib) (1.26.4)\n",
      "Requirement already satisfied: packaging>=20.0 in ./my_venv/lib/python3.11/site-packages (from matplotlib) (25.0)\n",
      "Collecting pillow>=8 (from matplotlib)\n",
      "  Using cached pillow-11.3.0-cp311-cp311-manylinux_2_27_x86_64.manylinux_2_28_x86_64.whl.metadata (9.0 kB)\n",
      "Collecting pyparsing>=2.3.1 (from matplotlib)\n",
      "  Downloading pyparsing-3.2.5-py3-none-any.whl.metadata (5.0 kB)\n",
      "Requirement already satisfied: python-dateutil>=2.7 in ./my_venv/lib/python3.11/site-packages (from matplotlib) (2.9.0.post0)\n",
      "Requirement already satisfied: six>=1.5 in ./my_venv/lib/python3.11/site-packages (from python-dateutil>=2.7->matplotlib) (1.17.0)\n",
      "Downloading matplotlib-3.10.6-cp311-cp311-manylinux2014_x86_64.manylinux_2_17_x86_64.whl (8.7 MB)\n",
      "\u001b[2K   \u001b[90m━━━━━━━━━━━━━━━━━━━━━━━━━━━━━━━━━━━━━━━━\u001b[0m \u001b[32m8.7/8.7 MB\u001b[0m \u001b[31m29.6 MB/s\u001b[0m  \u001b[33m0:00:00\u001b[0m eta \u001b[36m0:00:01\u001b[0m\n",
      "\u001b[?25hUsing cached contourpy-1.3.3-cp311-cp311-manylinux_2_27_x86_64.manylinux_2_28_x86_64.whl (355 kB)\n",
      "Using cached cycler-0.12.1-py3-none-any.whl (8.3 kB)\n",
      "Downloading fonttools-4.60.1-cp311-cp311-manylinux2014_x86_64.manylinux_2_17_x86_64.whl (5.0 MB)\n",
      "\u001b[2K   \u001b[90m━━━━━━━━━━━━━━━━━━━━━━━━━━━━━━━━━━━━━━━━\u001b[0m \u001b[32m5.0/5.0 MB\u001b[0m \u001b[31m59.4 MB/s\u001b[0m  \u001b[33m0:00:00\u001b[0m\n",
      "\u001b[?25hDownloading kiwisolver-1.4.9-cp311-cp311-manylinux2014_x86_64.manylinux_2_17_x86_64.whl (1.4 MB)\n",
      "\u001b[2K   \u001b[90m━━━━━━━━━━━━━━━━━━━━━━━━━━━━━━━━━━━━━━━━\u001b[0m \u001b[32m1.4/1.4 MB\u001b[0m \u001b[31m48.0 MB/s\u001b[0m  \u001b[33m0:00:00\u001b[0m\n",
      "\u001b[?25hUsing cached pillow-11.3.0-cp311-cp311-manylinux_2_27_x86_64.manylinux_2_28_x86_64.whl (6.6 MB)\n",
      "Downloading pyparsing-3.2.5-py3-none-any.whl (113 kB)\n",
      "Installing collected packages: pyparsing, pillow, kiwisolver, fonttools, cycler, contourpy, matplotlib\n",
      "\u001b[2K   \u001b[90m━━━━━━━━━━━━━━━━━━━━━━━━━━━━━━━━━━━━━━━━\u001b[0m \u001b[32m7/7\u001b[0m [matplotlib]7\u001b[0m [matplotlib]\n",
      "\u001b[1A\u001b[2KSuccessfully installed contourpy-1.3.3 cycler-0.12.1 fonttools-4.60.1 kiwisolver-1.4.9 matplotlib-3.10.6 pillow-11.3.0 pyparsing-3.2.5\n"
     ]
    }
   ],
   "source": [
    "!pip install matplotlib"
   ]
  },
  {
   "cell_type": "code",
   "execution_count": 23,
   "metadata": {},
   "outputs": [
    {
     "name": "stdout",
     "output_type": "stream",
     "text": [
      "Collecting seaborn\n",
      "  Downloading seaborn-0.13.2-py3-none-any.whl.metadata (5.4 kB)\n",
      "Requirement already satisfied: numpy!=1.24.0,>=1.20 in ./my_venv/lib/python3.11/site-packages (from seaborn) (1.26.4)\n",
      "Requirement already satisfied: pandas>=1.2 in ./my_venv/lib/python3.11/site-packages (from seaborn) (2.3.2)\n",
      "Requirement already satisfied: matplotlib!=3.6.1,>=3.4 in ./my_venv/lib/python3.11/site-packages (from seaborn) (3.10.6)\n",
      "Requirement already satisfied: contourpy>=1.0.1 in ./my_venv/lib/python3.11/site-packages (from matplotlib!=3.6.1,>=3.4->seaborn) (1.3.3)\n",
      "Requirement already satisfied: cycler>=0.10 in ./my_venv/lib/python3.11/site-packages (from matplotlib!=3.6.1,>=3.4->seaborn) (0.12.1)\n",
      "Requirement already satisfied: fonttools>=4.22.0 in ./my_venv/lib/python3.11/site-packages (from matplotlib!=3.6.1,>=3.4->seaborn) (4.60.1)\n",
      "Requirement already satisfied: kiwisolver>=1.3.1 in ./my_venv/lib/python3.11/site-packages (from matplotlib!=3.6.1,>=3.4->seaborn) (1.4.9)\n",
      "Requirement already satisfied: packaging>=20.0 in ./my_venv/lib/python3.11/site-packages (from matplotlib!=3.6.1,>=3.4->seaborn) (25.0)\n",
      "Requirement already satisfied: pillow>=8 in ./my_venv/lib/python3.11/site-packages (from matplotlib!=3.6.1,>=3.4->seaborn) (11.3.0)\n",
      "Requirement already satisfied: pyparsing>=2.3.1 in ./my_venv/lib/python3.11/site-packages (from matplotlib!=3.6.1,>=3.4->seaborn) (3.2.5)\n",
      "Requirement already satisfied: python-dateutil>=2.7 in ./my_venv/lib/python3.11/site-packages (from matplotlib!=3.6.1,>=3.4->seaborn) (2.9.0.post0)\n",
      "Requirement already satisfied: pytz>=2020.1 in ./my_venv/lib/python3.11/site-packages (from pandas>=1.2->seaborn) (2025.2)\n",
      "Requirement already satisfied: tzdata>=2022.7 in ./my_venv/lib/python3.11/site-packages (from pandas>=1.2->seaborn) (2025.2)\n",
      "Requirement already satisfied: six>=1.5 in ./my_venv/lib/python3.11/site-packages (from python-dateutil>=2.7->matplotlib!=3.6.1,>=3.4->seaborn) (1.17.0)\n",
      "Downloading seaborn-0.13.2-py3-none-any.whl (294 kB)\n",
      "Installing collected packages: seaborn\n",
      "Successfully installed seaborn-0.13.2\n"
     ]
    }
   ],
   "source": [
    "!pip install seaborn"
   ]
  },
  {
   "cell_type": "code",
   "execution_count": 12,
   "metadata": {
    "id": "H1Ts8DKpRrAA"
   },
   "outputs": [],
   "source": [
    "import numpy as np\n",
    "import pandas as pd\n",
    "\n",
    "# Classical ML models\n",
    "from sklearn.ensemble import RandomForestClassifier, GradientBoostingClassifier\n",
    "from sklearn.svm import SVC\n",
    "from sklearn.neural_network import MLPClassifier\n",
    "from sklearn.metrics import accuracy_score, classification_report\n",
    "\n",
    "# External ML libraries\n",
    "# import xgboost as xgb\n",
    "# import lightgbm as lgb\n",
    "#import catboost as cb"
   ]
  },
  {
   "cell_type": "code",
   "execution_count": 13,
   "metadata": {
    "id": "Y3_ysbBQu95j"
   },
   "outputs": [],
   "source": [
    "import pandas as pd\n",
    "import numpy as np\n",
    "from sklearn.model_selection import train_test_split\n",
    "from sklearn.preprocessing import StandardScaler\n",
    "from datetime import datetime\n",
    "\n",
    "# --- Load Data ---\n",
    "df = pd.read_csv(\"QuantPreprocessed1999_20.csv\")\n",
    "#df = df.head(10000)\n",
    "Field_list_sort=['Claims Count','Assignee Count','count_inventor','Count of Cited Refs - Patent','Count of Cited Refs - Non-patent','Count of Citing Patents','DWPI Count of Family Members','DWPI Count of Family Countries/Regions','IPC - Current Count','RelatedApplicationCount']\n",
    "df['High Quality'] = 0  # Initialize all rows with 0\n",
    "for i in Field_list_sort:\n",
    "# Step 1: Sort the DataFrame based on 'Claims Count' in descending order\n",
    " df = df.sort_values(by=i, ascending=False).reset_index(drop=True)\n",
    "\n",
    "# Step 2: Calculate the number of rows representing the top 5%\n",
    " top_5_percent_index = int(len(df) * 0.05)\n",
    "\n",
    "# Step 3: Set 'High Quality' to 0 for all rows and 1 for the top 5%\n",
    " df.loc[:top_5_percent_index, 'High Quality'] = 1\n",
    "\n",
    "#print(df)\n",
    "\n",
    "\n"
   ]
  },
  {
   "cell_type": "code",
   "execution_count": 14,
   "metadata": {
    "colab": {
     "base_uri": "https://localhost:8080/",
     "height": 1000
    },
    "id": "oJa3GSZkRyHh",
    "outputId": "64479772-2a81-403d-fb1a-fa6ca939ddad"
   },
   "outputs": [
    {
     "name": "stdout",
     "output_type": "stream",
     "text": [
      "data shape= (15659, 13)\n"
     ]
    }
   ],
   "source": [
    "feature_names=['grant_lag_days','Claims Count','Assignee Count','count_inventor','Count of Cited Refs - Patent','Count of Cited Refs - Non-patent',\n",
    "       'Count of Citing Patents','DWPI Count of Family Members','DWPI Count of Family Countries/Regions','RelatedApplicationCount',\n",
    "        'IPC - Current Count','Sub Class Count','High Quality']#\n",
    "training_features = df[feature_names]\n",
    "\n",
    "#df=df[]\n",
    "\n",
    "#Now delete all the columns for which all rows are having value null\n",
    "df[feature_names] = df[feature_names].dropna(axis=1, how='all')\n",
    "print('data shape=',df[feature_names].shape)\n",
    "# Check if there is any more na\n",
    "#(df.isnull().sum()*100)/len(df)\n"
   ]
  },
  {
   "cell_type": "code",
   "execution_count": 15,
   "metadata": {
    "colab": {
     "base_uri": "https://localhost:8080/",
     "height": 1000
    },
    "id": "oJa3GSZkRyHh",
    "outputId": "64479772-2a81-403d-fb1a-fa6ca939ddad"
   },
   "outputs": [
    {
     "name": "stdout",
     "output_type": "stream",
     "text": [
      "X_train Shape: (12527, 12)\n",
      "y_train Shape: (12527,)\n",
      "X_val Shape: (3132, 12)\n",
      "y_val Shape: (3132,)\n"
     ]
    }
   ],
   "source": [
    "df[feature_names].head()\n",
    "df_num=df[feature_names]\n",
    "X=df[['grant_lag_days','Claims Count','Assignee Count','count_inventor','Count of Cited Refs - Patent','Count of Cited Refs - Non-patent',\n",
    "       'Count of Citing Patents','DWPI Count of Family Members','DWPI Count of Family Countries/Regions','RelatedApplicationCount',\n",
    "        'IPC - Current Count','Sub Class Count']]#\n",
    "y=df['High Quality']\n",
    "# Train test split - 80% training data, 20% validation data\n",
    "X_train, X_val, y_train, y_val = train_test_split(X, y, test_size=0.20, random_state=100)\n",
    "# Checking the shape after split\n",
    "print('X_train Shape:', X_train.shape)\n",
    "print('y_train Shape:', y_train.shape)\n",
    "print('X_val Shape:', X_val.shape)\n",
    "print('y_val Shape:', y_val.shape)"
   ]
  },
  {
   "cell_type": "code",
   "execution_count": 16,
   "metadata": {
    "colab": {
     "base_uri": "https://localhost:8080/"
    },
    "id": "qeoLAc56SAFU",
    "outputId": "44097c0c-9692-4ca6-f28d-201417d3a397"
   },
   "outputs": [
    {
     "name": "stdout",
     "output_type": "stream",
     "text": [
      "Training RandomForest...\n",
      "RandomForest Accuracy: 0.9678\n",
      "              precision    recall  f1-score   support\n",
      "\n",
      "           0       0.97      0.98      0.97      1969\n",
      "           1       0.97      0.94      0.96      1163\n",
      "\n",
      "    accuracy                           0.97      3132\n",
      "   macro avg       0.97      0.96      0.97      3132\n",
      "weighted avg       0.97      0.97      0.97      3132\n",
      "\n"
     ]
    }
   ],
   "source": [
    "from sklearn.ensemble import RandomForestClassifier, GradientBoostingClassifier\n",
    "from sklearn.svm import SVC\n",
    "from sklearn.neural_network import MLPClassifier\n",
    "# from xgboost import XGBClassifier\n",
    "# from lightgbm import LGBMClassifier\n",
    "#from catboost import CatBoostClassifier\n",
    "from sklearn.metrics import accuracy_score, classification_report\n",
    "from sklearn.preprocessing import StandardScaler\n",
    "\n",
    "# Scale the features\n",
    "scaler = StandardScaler()\n",
    "X_train_scaled = scaler.fit_transform(X_train)\n",
    "X_val_scaled = scaler.transform(X_val)\n",
    "\n",
    "\n",
    "results = {}\n",
    "\n",
    "models = {\n",
    "    \"RandomForest\": RandomForestClassifier(n_estimators=200, random_state=42),\n",
    "  #  \"SVM\": SVC(kernel=\"rbf\", probability=True, random_state=42),\n",
    "  # \"GradientBoosting\": GradientBoostingClassifier(n_estimators=200, random_state=42),\n",
    "  #  \"XGBoost\": XGBClassifier(n_estimators=200, random_state=42, use_label_encoder=False, eval_metric=\"logloss\"),\n",
    "  #  \"LightGBM\": LGBMClassifier(n_estimators=200, random_state=42),\n",
    "   # \"CatBoost\": CatBoostClassifier(iterations=200, verbose=0, random_state=42),\n",
    "  #  \"MLP\": MLPClassifier(hidden_layer_sizes=(64,32), max_iter=300, random_state=42)\n",
    "}\n",
    "\n",
    "for name, model in models.items():\n",
    "    print(f\"Training {name}...\")\n",
    "    model.fit(X_train_scaled, y_train)\n",
    "    y_pred = model.predict(X_val_scaled)\n",
    "    acc = accuracy_score(y_val, y_pred)\n",
    "    results[name] = acc\n",
    "    print(f\"{name} Accuracy: {acc:.4f}\")\n",
    "    print(classification_report(y_val, y_pred))"
   ]
  },
  {
   "cell_type": "code",
   "execution_count": 17,
   "metadata": {},
   "outputs": [],
   "source": [
    "#!rm -rf __pycache__"
   ]
  },
  {
   "cell_type": "code",
   "execution_count": 18,
   "metadata": {
    "id": "yKNcg24Tg9F4"
   },
   "outputs": [],
   "source": [
    "# ===================== 6. Quantum ML (VQC) =====================\n",
    "#!pip uninstall -y qiskit qiskit-terra qiskit-aer qiskit-ibmq-provider\n",
    "# !pip install qiskit==1.1.0 qiskit-machine-learning==0.8.1 --force-reinstall --no-cache-dir --proxy 14.139.134.20:3128\n",
    "# Install required libraries (Qiskit 1.x + ML module)\n",
    "# !pip install qiskit qiskit-machine-learning  --force-reinstall --no-cache-dir --proxy 14.139.134.20:3128\n",
    "\n",
    "# Imports\n",
    "from sklearn.decomposition import PCA\n",
    "from sklearn.metrics import accuracy_score, classification_report\n",
    "\n",
    "from qiskit import QuantumCircuit\n",
    "from qiskit.circuit.library import ZZFeatureMap, TwoLocal\n",
    "from qiskit_algorithms.optimizers import COBYLA\n",
    "from qiskit.primitives import Sampler\n",
    "\n",
    "from qiskit_machine_learning.algorithms.classifiers import VQC\n",
    "#from qiskit.utils import algorithm_globals\n",
    "from qiskit_algorithms.utils import algorithm_globals\n",
    "#!pip install -q \"qiskit==1.1.0\" \"qiskit-machine-learning==0.8.1\" --force-reinstall --no-cache-dir --proxy 14.139.134.20:3128\n",
    "#!pip install -q qiskit-aer==0.13.0 --force-reinstall --no-cache-dir --proxy 14.139.134.20:3128# Needed for Sampler\n",
    "!#pip install -q qiskit-algorithms==0.3.0 --force-reinstall --no-cache-dir --proxy 14.139.134.20:3128"
   ]
  },
  {
   "cell_type": "code",
   "execution_count": 19,
   "metadata": {
    "id": "vifnbF-UaWjy"
   },
   "outputs": [
    {
     "name": "stdout",
     "output_type": "stream",
     "text": [
      "Training Quantum VQC...\n",
      "Quantum VQC Results:\n",
      "              precision    recall  f1-score   support\n",
      "\n",
      "           0       0.64      0.66      0.65      1969\n",
      "           1       0.39      0.38      0.39      1163\n",
      "\n",
      "    accuracy                           0.55      3132\n",
      "   macro avg       0.52      0.52      0.52      3132\n",
      "weighted avg       0.55      0.55      0.55      3132\n",
      "\n"
     ]
    }
   ],
   "source": [
    "\n",
    "\n",
    "# ===================== Data Preprocessing =====================\n",
    "# Reduce features to 4 dimensions (for 4-qubit circuit)\n",
    "pca = PCA(n_components=4)\n",
    "X_train_pca = pca.fit_transform(X_train_scaled)\n",
    "X_test_pca = pca.transform(X_val_scaled)\n",
    "\n",
    "# ===================== Quantum Circuit =====================\n",
    "# Feature Map (encodes classical data into quantum state)\n",
    "feature_map = ZZFeatureMap(feature_dimension=4, reps=2, entanglement=\"linear\")\n",
    "\n",
    "# Ansatz (variational circuit)\n",
    "ansatz = TwoLocal(num_qubits=4, rotation_blocks=\"ry\", entanglement_blocks=\"cz\")\n",
    "\n",
    "# Optimizer\n",
    "optimizer = COBYLA(maxiter=50)\n",
    "\n",
    "# ===================== Quantum Classifier =====================\n",
    "algorithm_globals.random_seed = 42\n",
    "sampler = Sampler()  # replaces Aer + QuantumInstance in Qiskit 1.x\n",
    "\n",
    "vqc = VQC(\n",
    "    feature_map=feature_map,\n",
    "    ansatz=ansatz,\n",
    "    optimizer=optimizer,\n",
    "    sampler=sampler,\n",
    ")\n",
    "\n",
    "# Ensure numpy arrays\n",
    "X_train_pca = X_train_pca if isinstance(X_train_pca, np.ndarray) else X_train_pca.values\n",
    "X_test_pca = X_test_pca if isinstance(X_test_pca, np.ndarray) else X_test_pca.values\n",
    "y_train = y_train.values.ravel() if hasattr(y_train, \"values\") else y_train\n",
    "y_test = y_val.values.ravel() if hasattr(y_val, \"values\") else y_val\n",
    "\n",
    "print(\"Training Quantum VQC...\")\n",
    "vqc.fit(X_train_pca, y_train)\n",
    "\n",
    "# Predictions\n",
    "y_pred_q = vqc.predict(X_test_pca)\n",
    "results[\"Quantum_VQC\"] = accuracy_score(y_val, y_pred_q)\n",
    "\n",
    "print(\"Quantum VQC Results:\")\n",
    "print(classification_report(y_val, y_pred_q))\n"
   ]
  },
  {
   "cell_type": "code",
   "execution_count": 24,
   "metadata": {
    "id": "kByG4vz65vhJ"
   },
   "outputs": [],
   "source": [
    "from sklearn.metrics import confusion_matrix, roc_curve, roc_auc_score\n",
    "import matplotlib.pyplot as plt\n",
    "import seaborn as sns\n",
    "%matplotlib inline\n",
    "def draw_roc(actual, probs):\n",
    "    fpr, tpr, thresholds = roc_curve(actual, probs,drop_intermediate = False)\n",
    "    auc_score = roc_auc_score( actual, probs )\n",
    "    plt.figure(figsize=(6, 6))\n",
    "    plt.plot( fpr, tpr, label='ROC curve (area = %0.2f)' % auc_score)\n",
    "    plt.plot([0, 1], [0, 1], 'k--')\n",
    "    plt.xlim([0.0, 1.0])\n",
    "    plt.ylim([0.0, 1.05])\n",
    "    plt.xlabel('False Positive Rate or [1 - True Negative Rate]')\n",
    "    plt.ylabel('True Positive Rate')\n",
    "    plt.title('ROC AUC Curve')\n",
    "    plt.legend(loc=\"lower right\")\n",
    "    plt.show()\n",
    "\n",
    "    return fpr, tpr, thresholds"
   ]
  },
  {
   "cell_type": "code",
   "execution_count": 25,
   "metadata": {},
   "outputs": [
    {
     "data": {
      "image/png": "[encoded data removed]",
      "text/plain": [
       "<Figure size 600x600 with 1 Axes>"
      ]
     },
     "metadata": {},
     "output_type": "display_data"
    }
   ],
   "source": [
    "fpr, tpr, thresholds = draw_roc(y_val, y_pred_q)"
   ]
  },
  {
   "cell_type": "code",
   "execution_count": 26,
   "metadata": {
    "colab": {
     "base_uri": "https://localhost:8080/"
    },
    "id": "FUI6bwR0SAL4",
    "outputId": "377e459d-a764-4636-e2e2-8d56db3e77c8"
   },
   "outputs": [
    {
     "name": "stdout",
     "output_type": "stream",
     "text": [
      "Using 100 landmarks (indices sample) for quantum feature construction.\n",
      "Evaluating quantum kernel: train vs landmarks ...\n",
      "Evaluating quantum kernel: test vs landmarks ...\n",
      "Training AdaBoost on quantum features...\n",
      "Quantum-Integrated AdaBoost Accuracy: 0.6337803320561941\n",
      "              precision    recall  f1-score   support\n",
      "\n",
      "           0       0.64      0.97      0.77      1969\n",
      "           1       0.57      0.06      0.11      1163\n",
      "\n",
      "    accuracy                           0.63      3132\n",
      "   macro avg       0.60      0.52      0.44      3132\n",
      "weighted avg       0.61      0.63      0.52      3132\n",
      "\n"
     ]
    }
   ],
   "source": [
    "# ===================== Quantum-Integrated AdaBoost =====================\n",
    "# Installs (uncomment if you haven't installed Qiskit 1.x in this session)\n",
    "\n",
    "import numpy as np\n",
    "from sklearn.decomposition import PCA\n",
    "from sklearn.tree import DecisionTreeClassifier\n",
    "from sklearn.ensemble import AdaBoostClassifier\n",
    "from sklearn.metrics import accuracy_score, classification_report\n",
    "\n",
    "# Qiskit imports (1.x modern API)\n",
    "from qiskit.primitives import Sampler\n",
    "from qiskit_algorithms.utils import algorithm_globals\n",
    "#from qiskit_machine_learning.circuit.library import ZZFeatureMap\n",
    "from qiskit_machine_learning.kernels import FidelityQuantumKernel\n",
    "from qiskit_algorithms.state_fidelities import ComputeUncompute\n",
    "#from qiskit.fidelity import ComputeUncompute # Corrected import location for ComputeUncompute\n",
    "\n",
    "# ---- Parameters you can tweak ----\n",
    "n_landmarks = min(100, max(10, X_train_scaled.shape[0]//5))  # number of landmarks for feature construction\n",
    "feature_map_reps = 2\n",
    "quantum_shots = 1024\n",
    "ada_n_estimators = 50\n",
    "random_state = 42\n",
    "# ----------------------------------\n",
    "\n",
    "# Ensure numpy arrays\n",
    "X_train_np = X_train_scaled if isinstance(X_train_scaled, np.ndarray) else X_train_scaled.toarray() if hasattr(X_train_scaled, \"toarray\") else np.asarray(X_train_scaled)\n",
    "X_test_np  = X_val_scaled  if isinstance(X_val_scaled,  np.ndarray) else X_val_scaled.toarray()  if hasattr(X_val_scaled, \"toarray\")  else np.asarray(X_val_scaled)\n",
    "y_train_np = y_train.values.ravel() if hasattr(y_train, \"values\") else np.asarray(y_train).ravel()\n",
    "y_test_np  = y_val.values.ravel()  if hasattr(y_val,  \"values\") else np.asarray(y_val).ravel() # Use y_val for testing\n",
    "\n",
    "# 1) PCA -> 4D (quantum feature dimension)\n",
    "pca = PCA(n_components=4, random_state=random_state)\n",
    "X_train_pca = pca.fit_transform(X_train_np)\n",
    "X_test_pca  = pca.transform(X_test_np)\n",
    "\n",
    "# 2) Build quantum kernel\n",
    "algorithm_globals.random_seed = random_state\n",
    "sampler = Sampler(options={\"shots\": quantum_shots})\n",
    "\n",
    "# Create the fidelity mechanism with a sampler\n",
    "fidelity = ComputeUncompute(sampler=sampler)\n",
    "\n",
    "# Construct the quantum kernel\n",
    "feature_map = ZZFeatureMap(feature_dimension=4, reps=feature_map_reps, entanglement=\"linear\")\n",
    "qkernel = FidelityQuantumKernel(feature_map=feature_map, fidelity=fidelity)\n",
    "\n",
    "\n",
    "# 3) Choose landmarks (representative training points)\n",
    "rng = np.random.default_rng(random_state)\n",
    "train_idx = np.arange(X_train_pca.shape[0])\n",
    "rng.shuffle(train_idx)\n",
    "landmark_idx = train_idx[:n_landmarks]\n",
    "X_landmarks = X_train_pca[landmark_idx]\n",
    "\n",
    "print(f\"Using {n_landmarks} landmarks (indices sample) for quantum feature construction.\")\n",
    "\n",
    "# 4) Compute kernel features: K(X, landmarks)\n",
    "print(\"Evaluating quantum kernel: train vs landmarks ...\")\n",
    "K_train_features = qkernel.evaluate(X_train_pca, X_landmarks)   # shape (n_train, n_landmarks)\n",
    "\n",
    "print(\"Evaluating quantum kernel: test vs landmarks ...\")\n",
    "K_test_features  = qkernel.evaluate(X_test_pca, X_landmarks)    # shape (n_test, n_landmarks)\n",
    "\n",
    "# 5) Train AdaBoost on quantum features (weak learners = decision stumps)\n",
    "base_stump = DecisionTreeClassifier(max_depth=1, random_state=random_state)\n",
    "ada = AdaBoostClassifier(estimator=base_stump, n_estimators=ada_n_estimators, random_state=random_state)\n",
    "print(\"Training AdaBoost on quantum features...\")\n",
    "ada.fit(K_train_features, y_train_np)\n",
    "\n",
    "# 6) Predict & evaluate\n",
    "y_pred_qada = ada.predict(K_test_features)\n",
    "acc_qada = accuracy_score(y_test_np, y_pred_qada)\n",
    "print(\"Quantum-Integrated AdaBoost Accuracy:\", acc_qada)\n",
    "print(classification_report(y_test_np, y_pred_qada))\n",
    "\n",
    "# Save to results dict\n",
    "try:\n",
    "    results[\"Quantum_AdaBoost\"] = acc_qada\n",
    "except NameError:\n",
    "    results = {\"Quantum_AdaBoost\": acc_qada}"
   ]
  },
  {
   "cell_type": "code",
   "execution_count": 27,
   "metadata": {
    "id": "CryY5zxq5wUZ"
   },
   "outputs": [
    {
     "data": {
      "image/png": "[encoded data removed]",
      "text/plain": [
       "<Figure size 600x600 with 1 Axes>"
      ]
     },
     "metadata": {},
     "output_type": "display_data"
    }
   ],
   "source": [
    "fpr, tpr, thresholds = draw_roc(y_val, y_pred_q)"
   ]
  },
  {
   "cell_type": "markdown",
   "metadata": {
    "id": "qt5FgEpbUZfm"
   },
   "source": []
  },
  {
   "cell_type": "code",
   "execution_count": null,
   "metadata": {
    "jupyter": {
     "source_hidden": true
    }
   },
   "outputs": [],
   "source": []
  }
 ],
 "metadata": {
  "colab": {
   "provenance": []
  },
  "kernelspec": {
   "display_name": "Python 3 (ipykernel)",
   "language": "python",
   "name": "python3"
  },
  "language_info": {
   "codemirror_mode": {
    "name": "ipython",
    "version": 3
   },
   "file_extension": ".py",
   "mimetype": "text/x-python",
   "name": "python",
   "nbconvert_exporter": "python",
   "pygments_lexer": "ipython3",
   "version": "3.11.0"
  }
 },
 "nbformat": 4,
 "nbformat_minor": 4
}
